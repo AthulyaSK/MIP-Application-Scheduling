{
  "cells": [
    {
      "cell_type": "markdown",
      "metadata": {
        "id": "view-in-github",
        "colab_type": "text"
      },
      "source": [
        "<a href=\"https://colab.research.google.com/github/AthulyaSK/MIP-Application-Scheduling/blob/main/MIP_Application_Scheduling.ipynb\" target=\"_parent\"><img src=\"https://colab.research.google.com/assets/colab-badge.svg\" alt=\"Open In Colab\"/></a>"
      ]
    },
    {
      "cell_type": "markdown",
      "source": [
        "#Set-up"
      ],
      "metadata": {
        "id": "OqOxPVZDquTm"
      }
    },
    {
      "cell_type": "code",
      "execution_count": null,
      "metadata": {
        "id": "CHE6DnGnqT3M"
      },
      "outputs": [],
      "source": [
        "#Copy-and-paste the code below to use as \"set-up\" when your optimization model uses Pyomo. \n",
        "#Uncomment the appropriate solver that you need.\n",
        "#for reference, see https://colab.research.google.com/drive/1yGk8RB5NXrcx9f1Tb-oCiWzbxh61hZLI?usp=sharing\n",
        "\n",
        "#installing and importing pyomo\n",
        "!pip install -q pyomo\n",
        "from pyomo.environ import *\n",
        "\n",
        "###installing and importing specific solvers (uncomment the one(s) you need)\n",
        "###glpk\n",
        "!apt-get install -y -qq glpk-utils\n",
        "###cbc\n",
        "#!apt-get install -y -qq coinor-cbc\n",
        "###ipopt\n",
        "#!wget -N -q \"https://ampl.com/dl/open/ipopt/ipopt-linux64.zip\"\n",
        "#!unzip -o -q ipopt-linux64\n",
        "###bonmin\n",
        "#!wget -N -q \"https://ampl.com/dl/open/bonmin/bonmin-linux64.zip\"\n",
        "#!unzip -o -q bonmin-linux64\n",
        "###couenne\n",
        "#!wget -N -q \"https://ampl.com/dl/open/couenne/couenne-linux64.zip\"\n",
        "#!unzip -o -q couenne-linux64\n",
        "###geocode\n",
        "#!wget -N -q \"https://ampl.com/dl/open/gecode/gecode-linux64.zip\"\n",
        "#!unzip -o -q gecode-linux64\n",
        "\n",
        "#Using the solvers:\n",
        "#SolverFactory('glpk', executable='/usr/bin/glpsol')\n",
        "#SolverFactory('cbc', executable='/usr/bin/cbc')\n",
        "#SolverFactory('ipopt', executable='/content/ipopt')\n",
        "#SolverFactory('bonmin', executable='/content/bonmin')\n",
        "#SolverFactory('couenne', executable='/content/couenne')\n",
        "#SolverFactory('gecode', executable='/content/gecode')"
      ]
    },
    {
      "cell_type": "markdown",
      "source": [
        "#Scheduling Solution"
      ],
      "metadata": {
        "id": "qldn1laZqyP-"
      }
    },
    {
      "cell_type": "code",
      "source": [
        "#inputs\n",
        "num_workers = 8 #indexed with i\n",
        "num_days = 7 #indexed with j\n",
        "num_shifts = 3 #indexed with k\n",
        "\n",
        "min_workers_per_shift = 2\n",
        "max_shifts_per_day = 1\n",
        "min_shifts_per_worker = 5\n",
        "max_night_shifts = 2"
      ],
      "metadata": {
        "id": "BoFgqmWwvpfJ"
      },
      "execution_count": 1,
      "outputs": []
    },
    {
      "cell_type": "code",
      "execution_count": null,
      "metadata": {
        "id": "Dnj2Tw8qqT3P"
      },
      "outputs": [],
      "source": [
        "#optimization model\n",
        "model = ConcreteModel() #create a model\n",
        "\n",
        "#declare the decision variables\n",
        "model.x = Var(range(num_workers), range(num_days), range(num_shifts), domain=Binary) #model.x[i,j,k] is the DV for the ith worker on day j, shift k\n",
        "\n",
        "#Constraint: Each shift requires at least 2 nurses\n",
        "#for each day j\n",
        "    #for each shift k\n",
        "        #add a constraint that the sum across the workers i >= 2\n",
        "model.shiftshaveminworkers = ConstraintList()\n",
        "for j in range(num_days): #for each day j\n",
        "    for k in range(num_shifts): #for each shift k\n",
        "        model.shiftshaveminworkers.add(expr = sum(model.x[i,j,k] for i in range(num_workers)) >= min_workers_per_shift)\n",
        "        \n",
        "#Constraint: no nurse works more than 1 shift per day\n",
        "#for each worker i\n",
        "    #for each day j\n",
        "        #add a cosntraint that the sum across the shifts k is <= 1\n",
        "model.maxshiftsperday = ConstraintList()\n",
        "for i in range(num_workers):\n",
        "    for j in range(num_days):\n",
        "        model.maxshiftsperday.add(expr = sum(model.x[i,j,k] for k in range(num_shifts)) <= max_shifts_per_day)\n",
        "\n",
        "#Constraint: at least 5 shifts for each nurse\n",
        "model.minshifts = ConstraintList()\n",
        "for i in range(num_workers):\n",
        "  model.minshifts.add(expr = sum(model.x[i,j,k] for j in range(num_days) for k in range(num_shifts)) >= min_shifts_per_worker)\n",
        "\n",
        "#Constraint: at most 2 night shifts per worker\n",
        "model.nightshifts = ConstraintList()\n",
        "for i in range(num_workers):\n",
        "  model.nightshifts.add(expr = sum(model.x[i,j,k] for j in range(num_days) if k == 2) <= max_night_shifts)\n",
        "\n",
        "model.Objective = Objective(expr = sum(model.x[i,j,k] for i in range(num_workers) for j in range(num_days) for k in range(num_shifts)), sense = minimize)\n",
        "\n",
        "model.pprint()"
      ]
    },
    {
      "cell_type": "code",
      "source": [
        "opt = SolverFactory('glpk')\n",
        "opt.options['mipgap'] = 0\n",
        "results = opt.solve(model, tee=True)"
      ],
      "metadata": {
        "id": "8a32SMeWtemL"
      },
      "execution_count": null,
      "outputs": []
    },
    {
      "cell_type": "code",
      "source": [
        "#printing out solution (with pandas)\n",
        "print(\"total number of shifts assigned:\", model.Objective())"
      ],
      "metadata": {
        "id": "c4MToK-otxWK",
        "colab": {
          "base_uri": "https://localhost:8080/"
        },
        "outputId": "b4ff03f2-4b49-4533-cda8-06910e2db2c9"
      },
      "execution_count": null,
      "outputs": [
        {
          "output_type": "stream",
          "name": "stdout",
          "text": [
            "total number of shifts assigned: 42.0\n"
          ]
        }
      ]
    },
    {
      "cell_type": "code",
      "source": [
        "schedule = [[[model.x[i,j,k]() for k in range(num_shifts)] for j in range(num_days)] for i in range(num_workers)]\n",
        "import pandas as pd\n",
        "pd.DataFrame(schedule, index = [f\"worker{i}\" for i in range(num_workers)], columns = [f\"day{i}\" for i in range(num_days)]) "
      ],
      "metadata": {
        "id": "R2Lr3N0it0ES",
        "colab": {
          "base_uri": "https://localhost:8080/",
          "height": 300
        },
        "outputId": "67cbe541-c13f-4af6-bb61-fb31aa4c69b5"
      },
      "execution_count": null,
      "outputs": [
        {
          "output_type": "execute_result",
          "data": {
            "text/plain": [
              "                    day0             day1             day2             day3  \\\n",
              "worker0  [1.0, 0.0, 0.0]  [0.0, 0.0, 0.0]  [0.0, 0.0, 0.0]  [1.0, 0.0, 0.0]   \n",
              "worker1  [0.0, 0.0, 1.0]  [0.0, 0.0, 0.0]  [0.0, 1.0, 0.0]  [0.0, 0.0, 1.0]   \n",
              "worker2  [0.0, 0.0, 1.0]  [0.0, 0.0, 1.0]  [0.0, 0.0, 0.0]  [0.0, 0.0, 0.0]   \n",
              "worker3  [1.0, 0.0, 0.0]  [0.0, 0.0, 1.0]  [0.0, 0.0, 1.0]  [1.0, 0.0, 0.0]   \n",
              "worker4  [0.0, 0.0, 0.0]  [0.0, 1.0, 0.0]  [0.0, 0.0, 1.0]  [0.0, 0.0, 1.0]   \n",
              "worker5  [0.0, 0.0, 0.0]  [1.0, 0.0, 0.0]  [1.0, 0.0, 0.0]  [0.0, 0.0, 0.0]   \n",
              "worker6  [0.0, 1.0, 0.0]  [1.0, 0.0, 0.0]  [1.0, 0.0, 0.0]  [0.0, 1.0, 0.0]   \n",
              "worker7  [0.0, 1.0, 0.0]  [0.0, 1.0, 0.0]  [0.0, 1.0, 0.0]  [0.0, 1.0, 0.0]   \n",
              "\n",
              "                    day4             day5             day6  \n",
              "worker0  [0.0, 0.0, 1.0]  [1.0, 0.0, 0.0]  [1.0, 0.0, 0.0]  \n",
              "worker1  [1.0, 0.0, 0.0]  [0.0, 1.0, 0.0]  [0.0, 0.0, 0.0]  \n",
              "worker2  [0.0, 1.0, 0.0]  [0.0, 1.0, 0.0]  [0.0, 1.0, 0.0]  \n",
              "worker3  [0.0, 0.0, 0.0]  [0.0, 0.0, 0.0]  [0.0, 1.0, 0.0]  \n",
              "worker4  [0.0, 0.0, 0.0]  [1.0, 0.0, 0.0]  [1.0, 0.0, 0.0]  \n",
              "worker5  [1.0, 0.0, 0.0]  [0.0, 0.0, 1.0]  [0.0, 0.0, 1.0]  \n",
              "worker6  [0.0, 1.0, 0.0]  [0.0, 0.0, 1.0]  [0.0, 0.0, 1.0]  \n",
              "worker7  [0.0, 0.0, 1.0]  [0.0, 0.0, 0.0]  [0.0, 0.0, 0.0]  "
            ],
            "text/html": [
              "\n",
              "  <div id=\"df-542ad71e-2aca-46c4-919b-36fd361a8496\">\n",
              "    <div class=\"colab-df-container\">\n",
              "      <div>\n",
              "<style scoped>\n",
              "    .dataframe tbody tr th:only-of-type {\n",
              "        vertical-align: middle;\n",
              "    }\n",
              "\n",
              "    .dataframe tbody tr th {\n",
              "        vertical-align: top;\n",
              "    }\n",
              "\n",
              "    .dataframe thead th {\n",
              "        text-align: right;\n",
              "    }\n",
              "</style>\n",
              "<table border=\"1\" class=\"dataframe\">\n",
              "  <thead>\n",
              "    <tr style=\"text-align: right;\">\n",
              "      <th></th>\n",
              "      <th>day0</th>\n",
              "      <th>day1</th>\n",
              "      <th>day2</th>\n",
              "      <th>day3</th>\n",
              "      <th>day4</th>\n",
              "      <th>day5</th>\n",
              "      <th>day6</th>\n",
              "    </tr>\n",
              "  </thead>\n",
              "  <tbody>\n",
              "    <tr>\n",
              "      <th>worker0</th>\n",
              "      <td>[1.0, 0.0, 0.0]</td>\n",
              "      <td>[0.0, 0.0, 0.0]</td>\n",
              "      <td>[0.0, 0.0, 0.0]</td>\n",
              "      <td>[1.0, 0.0, 0.0]</td>\n",
              "      <td>[0.0, 0.0, 1.0]</td>\n",
              "      <td>[1.0, 0.0, 0.0]</td>\n",
              "      <td>[1.0, 0.0, 0.0]</td>\n",
              "    </tr>\n",
              "    <tr>\n",
              "      <th>worker1</th>\n",
              "      <td>[0.0, 0.0, 1.0]</td>\n",
              "      <td>[0.0, 0.0, 0.0]</td>\n",
              "      <td>[0.0, 1.0, 0.0]</td>\n",
              "      <td>[0.0, 0.0, 1.0]</td>\n",
              "      <td>[1.0, 0.0, 0.0]</td>\n",
              "      <td>[0.0, 1.0, 0.0]</td>\n",
              "      <td>[0.0, 0.0, 0.0]</td>\n",
              "    </tr>\n",
              "    <tr>\n",
              "      <th>worker2</th>\n",
              "      <td>[0.0, 0.0, 1.0]</td>\n",
              "      <td>[0.0, 0.0, 1.0]</td>\n",
              "      <td>[0.0, 0.0, 0.0]</td>\n",
              "      <td>[0.0, 0.0, 0.0]</td>\n",
              "      <td>[0.0, 1.0, 0.0]</td>\n",
              "      <td>[0.0, 1.0, 0.0]</td>\n",
              "      <td>[0.0, 1.0, 0.0]</td>\n",
              "    </tr>\n",
              "    <tr>\n",
              "      <th>worker3</th>\n",
              "      <td>[1.0, 0.0, 0.0]</td>\n",
              "      <td>[0.0, 0.0, 1.0]</td>\n",
              "      <td>[0.0, 0.0, 1.0]</td>\n",
              "      <td>[1.0, 0.0, 0.0]</td>\n",
              "      <td>[0.0, 0.0, 0.0]</td>\n",
              "      <td>[0.0, 0.0, 0.0]</td>\n",
              "      <td>[0.0, 1.0, 0.0]</td>\n",
              "    </tr>\n",
              "    <tr>\n",
              "      <th>worker4</th>\n",
              "      <td>[0.0, 0.0, 0.0]</td>\n",
              "      <td>[0.0, 1.0, 0.0]</td>\n",
              "      <td>[0.0, 0.0, 1.0]</td>\n",
              "      <td>[0.0, 0.0, 1.0]</td>\n",
              "      <td>[0.0, 0.0, 0.0]</td>\n",
              "      <td>[1.0, 0.0, 0.0]</td>\n",
              "      <td>[1.0, 0.0, 0.0]</td>\n",
              "    </tr>\n",
              "    <tr>\n",
              "      <th>worker5</th>\n",
              "      <td>[0.0, 0.0, 0.0]</td>\n",
              "      <td>[1.0, 0.0, 0.0]</td>\n",
              "      <td>[1.0, 0.0, 0.0]</td>\n",
              "      <td>[0.0, 0.0, 0.0]</td>\n",
              "      <td>[1.0, 0.0, 0.0]</td>\n",
              "      <td>[0.0, 0.0, 1.0]</td>\n",
              "      <td>[0.0, 0.0, 1.0]</td>\n",
              "    </tr>\n",
              "    <tr>\n",
              "      <th>worker6</th>\n",
              "      <td>[0.0, 1.0, 0.0]</td>\n",
              "      <td>[1.0, 0.0, 0.0]</td>\n",
              "      <td>[1.0, 0.0, 0.0]</td>\n",
              "      <td>[0.0, 1.0, 0.0]</td>\n",
              "      <td>[0.0, 1.0, 0.0]</td>\n",
              "      <td>[0.0, 0.0, 1.0]</td>\n",
              "      <td>[0.0, 0.0, 1.0]</td>\n",
              "    </tr>\n",
              "    <tr>\n",
              "      <th>worker7</th>\n",
              "      <td>[0.0, 1.0, 0.0]</td>\n",
              "      <td>[0.0, 1.0, 0.0]</td>\n",
              "      <td>[0.0, 1.0, 0.0]</td>\n",
              "      <td>[0.0, 1.0, 0.0]</td>\n",
              "      <td>[0.0, 0.0, 1.0]</td>\n",
              "      <td>[0.0, 0.0, 0.0]</td>\n",
              "      <td>[0.0, 0.0, 0.0]</td>\n",
              "    </tr>\n",
              "  </tbody>\n",
              "</table>\n",
              "</div>\n",
              "      <button class=\"colab-df-convert\" onclick=\"convertToInteractive('df-542ad71e-2aca-46c4-919b-36fd361a8496')\"\n",
              "              title=\"Convert this dataframe to an interactive table.\"\n",
              "              style=\"display:none;\">\n",
              "        \n",
              "  <svg xmlns=\"http://www.w3.org/2000/svg\" height=\"24px\"viewBox=\"0 0 24 24\"\n",
              "       width=\"24px\">\n",
              "    <path d=\"M0 0h24v24H0V0z\" fill=\"none\"/>\n",
              "    <path d=\"M18.56 5.44l.94 2.06.94-2.06 2.06-.94-2.06-.94-.94-2.06-.94 2.06-2.06.94zm-11 1L8.5 8.5l.94-2.06 2.06-.94-2.06-.94L8.5 2.5l-.94 2.06-2.06.94zm10 10l.94 2.06.94-2.06 2.06-.94-2.06-.94-.94-2.06-.94 2.06-2.06.94z\"/><path d=\"M17.41 7.96l-1.37-1.37c-.4-.4-.92-.59-1.43-.59-.52 0-1.04.2-1.43.59L10.3 9.45l-7.72 7.72c-.78.78-.78 2.05 0 2.83L4 21.41c.39.39.9.59 1.41.59.51 0 1.02-.2 1.41-.59l7.78-7.78 2.81-2.81c.8-.78.8-2.07 0-2.86zM5.41 20L4 18.59l7.72-7.72 1.47 1.35L5.41 20z\"/>\n",
              "  </svg>\n",
              "      </button>\n",
              "      \n",
              "  <style>\n",
              "    .colab-df-container {\n",
              "      display:flex;\n",
              "      flex-wrap:wrap;\n",
              "      gap: 12px;\n",
              "    }\n",
              "\n",
              "    .colab-df-convert {\n",
              "      background-color: #E8F0FE;\n",
              "      border: none;\n",
              "      border-radius: 50%;\n",
              "      cursor: pointer;\n",
              "      display: none;\n",
              "      fill: #1967D2;\n",
              "      height: 32px;\n",
              "      padding: 0 0 0 0;\n",
              "      width: 32px;\n",
              "    }\n",
              "\n",
              "    .colab-df-convert:hover {\n",
              "      background-color: #E2EBFA;\n",
              "      box-shadow: 0px 1px 2px rgba(60, 64, 67, 0.3), 0px 1px 3px 1px rgba(60, 64, 67, 0.15);\n",
              "      fill: #174EA6;\n",
              "    }\n",
              "\n",
              "    [theme=dark] .colab-df-convert {\n",
              "      background-color: #3B4455;\n",
              "      fill: #D2E3FC;\n",
              "    }\n",
              "\n",
              "    [theme=dark] .colab-df-convert:hover {\n",
              "      background-color: #434B5C;\n",
              "      box-shadow: 0px 1px 3px 1px rgba(0, 0, 0, 0.15);\n",
              "      filter: drop-shadow(0px 1px 2px rgba(0, 0, 0, 0.3));\n",
              "      fill: #FFFFFF;\n",
              "    }\n",
              "  </style>\n",
              "\n",
              "      <script>\n",
              "        const buttonEl =\n",
              "          document.querySelector('#df-542ad71e-2aca-46c4-919b-36fd361a8496 button.colab-df-convert');\n",
              "        buttonEl.style.display =\n",
              "          google.colab.kernel.accessAllowed ? 'block' : 'none';\n",
              "\n",
              "        async function convertToInteractive(key) {\n",
              "          const element = document.querySelector('#df-542ad71e-2aca-46c4-919b-36fd361a8496');\n",
              "          const dataTable =\n",
              "            await google.colab.kernel.invokeFunction('convertToInteractive',\n",
              "                                                     [key], {});\n",
              "          if (!dataTable) return;\n",
              "\n",
              "          const docLinkHtml = 'Like what you see? Visit the ' +\n",
              "            '<a target=\"_blank\" href=https://colab.research.google.com/notebooks/data_table.ipynb>data table notebook</a>'\n",
              "            + ' to learn more about interactive tables.';\n",
              "          element.innerHTML = '';\n",
              "          dataTable['output_type'] = 'display_data';\n",
              "          await google.colab.output.renderOutput(dataTable, element);\n",
              "          const docLink = document.createElement('div');\n",
              "          docLink.innerHTML = docLinkHtml;\n",
              "          element.appendChild(docLink);\n",
              "        }\n",
              "      </script>\n",
              "    </div>\n",
              "  </div>\n",
              "  "
            ]
          },
          "metadata": {},
          "execution_count": 50
        }
      ]
    },
    {
      "cell_type": "code",
      "execution_count": null,
      "metadata": {
        "id": "ScJtPodBqT3R",
        "colab": {
          "base_uri": "https://localhost:8080/"
        },
        "outputId": "bf030313-7211-4c9f-c515-6d6fa7029f20"
      },
      "outputs": [
        {
          "output_type": "stream",
          "name": "stdout",
          "text": [
            "total number of shifts assigned: 42.0\n",
            "worker: 0 day: 0 shift: 0\n",
            "worker: 0 day: 3 shift: 0\n",
            "worker: 0 day: 4 shift: 2\n",
            "worker: 0 day: 5 shift: 0\n",
            "worker: 0 day: 6 shift: 0\n",
            "worker: 1 day: 0 shift: 2\n",
            "worker: 1 day: 2 shift: 1\n",
            "worker: 1 day: 3 shift: 2\n",
            "worker: 1 day: 4 shift: 0\n",
            "worker: 1 day: 5 shift: 1\n",
            "worker: 2 day: 0 shift: 2\n",
            "worker: 2 day: 1 shift: 2\n",
            "worker: 2 day: 4 shift: 1\n",
            "worker: 2 day: 5 shift: 1\n",
            "worker: 2 day: 6 shift: 1\n",
            "worker: 3 day: 0 shift: 0\n",
            "worker: 3 day: 1 shift: 2\n",
            "worker: 3 day: 2 shift: 2\n",
            "worker: 3 day: 3 shift: 0\n",
            "worker: 3 day: 6 shift: 1\n",
            "worker: 4 day: 1 shift: 1\n",
            "worker: 4 day: 2 shift: 2\n",
            "worker: 4 day: 3 shift: 2\n",
            "worker: 4 day: 5 shift: 0\n",
            "worker: 4 day: 6 shift: 0\n",
            "worker: 5 day: 1 shift: 0\n",
            "worker: 5 day: 2 shift: 0\n",
            "worker: 5 day: 4 shift: 0\n",
            "worker: 5 day: 5 shift: 2\n",
            "worker: 5 day: 6 shift: 2\n",
            "worker: 6 day: 0 shift: 1\n",
            "worker: 6 day: 1 shift: 0\n",
            "worker: 6 day: 2 shift: 0\n",
            "worker: 6 day: 3 shift: 1\n",
            "worker: 6 day: 4 shift: 1\n",
            "worker: 6 day: 5 shift: 2\n",
            "worker: 6 day: 6 shift: 2\n",
            "worker: 7 day: 0 shift: 1\n",
            "worker: 7 day: 1 shift: 1\n",
            "worker: 7 day: 2 shift: 1\n",
            "worker: 7 day: 3 shift: 1\n",
            "worker: 7 day: 4 shift: 2\n"
          ]
        }
      ],
      "source": [
        "#printing out solution alternative\n",
        "print(\"total number of shifts assigned:\", model.Objective())\n",
        "\n",
        "#print out the solution by day\n",
        "#for j in range(num_days):\n",
        "#    for k in range(num_shifts):\n",
        "#        for i in range(num_workers):\n",
        "#            if model.x[i,j,k]() == 1:\n",
        "#                print(\"day:\", j, \"shift:\", k, \"worker:\", i)\n",
        "                \n",
        "#print out the solution by worker\n",
        "for i in range(num_workers):\n",
        "    for j in range(num_days):\n",
        "        for k in range(num_shifts):\n",
        "            if model.x[i,j,k]() == 1:\n",
        "                print(\"worker:\", i, \"day:\", j, \"shift:\", k)"
      ]
    }
  ],
  "metadata": {
    "kernelspec": {
      "display_name": "Python 3",
      "language": "python",
      "name": "python3"
    },
    "language_info": {
      "codemirror_mode": {
        "name": "ipython",
        "version": 3
      },
      "file_extension": ".py",
      "mimetype": "text/x-python",
      "name": "python",
      "nbconvert_exporter": "python",
      "pygments_lexer": "ipython3",
      "version": "3.8.8"
    },
    "colab": {
      "provenance": [],
      "collapsed_sections": [
        "OqOxPVZDquTm"
      ],
      "include_colab_link": true
    }
  },
  "nbformat": 4,
  "nbformat_minor": 0
}